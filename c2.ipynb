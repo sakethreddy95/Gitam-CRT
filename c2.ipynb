{
  "nbformat": 4,
  "nbformat_minor": 0,
  "metadata": {
    "colab": {
      "name": "c2.ipynb",
      "provenance": [],
      "include_colab_link": true
    },
    "kernelspec": {
      "name": "python3",
      "display_name": "Python 3"
    }
  },
  "cells": [
    {
      "cell_type": "markdown",
      "metadata": {
        "id": "view-in-github",
        "colab_type": "text"
      },
      "source": [
        "<a href=\"https://colab.research.google.com/github/sakethreddy95/Gitam-CRT/blob/master/c2.ipynb\" target=\"_parent\"><img src=\"https://colab.research.google.com/assets/colab-badge.svg\" alt=\"Open In Colab\"/></a>"
      ]
    },
    {
      "cell_type": "code",
      "metadata": {
        "id": "lnYmArbz_WQu",
        "colab_type": "code",
        "colab": {}
      },
      "source": [
        "#include<stdio.h>\n",
        "int fact(int x);\n",
        "int main()\n",
        "{\n",
        "\tint n,i,sum=0,a;\n",
        "\tscanf(\"%d\",&n);\n",
        "\tint temp=n;\n",
        "\twhile(n!=0)\n",
        "\t{\n",
        "\t\ti=n%10;\n",
        "\t\ta=fact(i);\n",
        "\t\tsum=sum+a;\n",
        "\t\tn=n/10;\n",
        "\t}\n",
        "\tif(sum==temp)\n",
        "\tprintf(\"--yes\");\n",
        "\telse\n",
        "\tprintf(\"--no\");\n",
        "\treturn 0;\n",
        "}\n",
        "int fact(int x)\n",
        "{\n",
        "\tint i,p=1;\n",
        "\tfor(i=1;i<=x;i++)\n",
        "\t{\n",
        "\t\tp=p*i;\n",
        "\t}\n",
        "\treturn p;\n",
        "}"
      ],
      "execution_count": 0,
      "outputs": []
    },
    {
      "cell_type": "code",
      "metadata": {
        "id": "u64LJqmK_gYB",
        "colab_type": "code",
        "colab": {}
      },
      "source": [
        "#include<stdio.h> //stars\n",
        "int main()\n",
        "{\n",
        "\tint n,x,i;\n",
        "\tscanf(\"%d\",&n);\n",
        "\twhile(n!=0)\n",
        "\t{\n",
        "\t\tprintf(\"$\");\n",
        "\t\tx=n%10;\n",
        "\t\tfor(i=1;i<=x;i++)\n",
        "\t\t{\n",
        "\t\t\tprintf(\"*\");\n",
        "\t\t}\n",
        "\t\tprintf(\"\\n\");\n",
        "\t\tn=n/10;\n",
        "\t\t}\n",
        "\t\treturn 0;\n",
        "}"
      ],
      "execution_count": 0,
      "outputs": []
    },
    {
      "cell_type": "code",
      "metadata": {
        "id": "EZlYQbZ0_1t8",
        "colab_type": "code",
        "colab": {}
      },
      "source": [
        "#include<stdio.h> //sum of cubes for 3 digitsno and sum of power 4 for 4 digit\n",
        "main()\n",
        "{\n",
        "\tint n,x,sum1=0,sum2=0,count=0;\n",
        "\tscanf(\"%d\",&n);\n",
        "\twhile(n!=0)\n",
        "\t{\n",
        "\t\tx=n%10;\n",
        "\t    count=count+1;\n",
        "\t\tsum1=sum1+x*x*x;\n",
        "\t\tsum2=sum2+x*x*x*x;\n",
        "\t\tn=n/10;\n",
        "\t}\n",
        "\tif(count==3)\n",
        "\tprintf(\"%d\",sum1);\n",
        "\telse if(count==4)\n",
        "\tprintf(\"%d\",sum2);\n",
        "\treturn 0;\n",
        "}"
      ],
      "execution_count": 0,
      "outputs": []
    },
    {
      "cell_type": "code",
      "metadata": {
        "id": "vt2v8QdfAEtE",
        "colab_type": "code",
        "colab": {}
      },
      "source": [
        "#include<stdio.h> //basic array reading and printing\n",
        "int main()\n",
        "{\n",
        "\tint i,n,a[100];\n",
        "\tscanf(\"%d\",&n);\n",
        "\tfor(i=0;i<n;i++)\n",
        "\t{\n",
        "\t\tscanf(\"%d\",&a[i]);\n",
        "\t}\n",
        "\tfor(i=0;i<n;i++)\n",
        "\tif(a[i]%2==0)\n",
        "\tprintf(\"1\");\n",
        "\telse\n",
        "\tprintf(\"0\");\n",
        "}\n"
      ],
      "execution_count": 0,
      "outputs": []
    },
    {
      "cell_type": "code",
      "metadata": {
        "id": "566XURWqARpD",
        "colab_type": "code",
        "colab": {}
      },
      "source": [
        "#include<stdio.h> //range of array\n",
        "int main()\n",
        "{\n",
        "\tint i,n,a[100],max=a[0],min=a[0];\n",
        "\tscanf(\"%d\",&n);\n",
        "\tfor(i=0;i<n;i++)\n",
        "\t{\n",
        "\t\tscanf(\"%d\",&a[i]);\n",
        "\t}\n",
        "\tfor(i=0;i<n;i++)\n",
        "\t{\n",
        "\t\tif(max<a[i])\n",
        "\t\tmax=a[i];\n",
        "\t    if(min>a[i])\n",
        "\t\tmin=a[i];\n",
        "\t}\n",
        "\t\tprintf(\"%d %d\",min,max);\n",
        "\t\n",
        "}"
      ],
      "execution_count": 0,
      "outputs": []
    },
    {
      "cell_type": "code",
      "metadata": {
        "id": "1Tt7OYgdAaXy",
        "colab_type": "code",
        "colab": {}
      },
      "source": [
        "#include<stdio.h> //prints individual digits of arraay\n",
        "int main()\n",
        "{\n",
        "\tint x,a[100],n=0,i;\n",
        "\tscanf(\"%d\",&x);\n",
        "\twhile(x!=0)\n",
        "\t{a[n]=x%10;\n",
        "\tx=x/10;\n",
        "\tn++;\n",
        "\t}\n",
        "\tfor(i=n-1;i>=0;i--)\n",
        "\tprintf(\" %d \",a[i]);\n",
        "\t}"
      ],
      "execution_count": 0,
      "outputs": []
    }
  ]
}