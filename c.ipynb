{
  "nbformat": 4,
  "nbformat_minor": 0,
  "metadata": {
    "colab": {
      "name": "Untitled0.ipynb",
      "provenance": [],
      "collapsed_sections": [],
      "include_colab_link": true
    },
    "kernelspec": {
      "name": "python3",
      "display_name": "Python 3"
    }
  },
  "cells": [
    {
      "cell_type": "markdown",
      "metadata": {
        "id": "view-in-github",
        "colab_type": "text"
      },
      "source": [
        "<a href=\"https://colab.research.google.com/github/sakethreddy95/Gitam-CRT/blob/master/c.ipynb\" target=\"_parent\"><img src=\"https://colab.research.google.com/assets/colab-badge.svg\" alt=\"Open In Colab\"/></a>"
      ]
    },
    {
      "cell_type": "code",
      "metadata": {
        "id": "VigO5LAmiM5X",
        "colab_type": "code",
        "outputId": "0364a762-2ccf-42b7-a95b-eb395d95b267",
        "colab": {
          "base_uri": "https://localhost:8080/",
          "height": 129
        }
      },
      "source": [
        "#include<stdio.h>\n",
        "int main()\n",
        "{\n",
        "\tchar x;\n",
        "\tscanf(\"%c\",&x);\n",
        "\tif(x>=65 && x<=90)\n",
        "\tprintf(\"upper case\");\n",
        "\telse if(x>=97 && x<=122)\n",
        "\tprintf(\"lower case\");\n",
        "\telse if(x>=48 && x<=57)\n",
        "    printf(\"its a digit\");\n",
        "    return 0;\n",
        "}"
      ],
      "execution_count": 0,
      "outputs": [
        {
          "output_type": "error",
          "ename": "SyntaxError",
          "evalue": "ignored",
          "traceback": [
            "\u001b[0;36m  File \u001b[0;32m\"<ipython-input-1-bca576997d8b>\"\u001b[0;36m, line \u001b[0;32m1\u001b[0m\n\u001b[0;31m    int main()\u001b[0m\n\u001b[0m           ^\u001b[0m\n\u001b[0;31mSyntaxError\u001b[0m\u001b[0;31m:\u001b[0m invalid syntax\n"
          ]
        }
      ]
    },
    {
      "cell_type": "code",
      "metadata": {
        "id": "tPn8285lU8Cr",
        "colab_type": "code",
        "colab": {}
      },
      "source": [
        "#include<stdio.h>\n",
        "int main()\n",
        "{\n",
        "\tint n,large=0,x;\n",
        "\tscanf(\"%d\",&n);\n",
        "\twhile(n!=0)\n",
        "\t{\n",
        "\t\tx=n%10;\n",
        "\t\tif(x>large)\n",
        "\t\tlarge=x;\n",
        "\t\tn=n/10;\n",
        "\t}\n",
        "\tprintf(\"%d\",large);\n",
        "\treturn 0;\n",
        "}"
      ],
      "execution_count": 0,
      "outputs": []
    },
    {
      "cell_type": "code",
      "metadata": {
        "id": "9F6bVVZ5Wiwu",
        "colab_type": "code",
        "colab": {}
      },
      "source": [
        "#include<stdio.h>\n",
        "int main()\n",
        "{\n",
        "\tint n,large=0,x,j;\n",
        "\tscanf(\"%d\",&n);\n",
        "\tfor(j=0;j<3;j++)\n",
        "\t{\n",
        "\t\tx=n%10;\n",
        "\t\tif(x>large)\n",
        "\t\tlarge=x;\n",
        "\t\tn=n/10;\n",
        "\t}\n",
        "\tprintf(\"%d\",large);\n",
        "\treturn 0;\n",
        "}"
      ],
      "execution_count": 0,
      "outputs": []
    },
    {
      "cell_type": "code",
      "metadata": {
        "id": "HOjJT1vLiOI-",
        "colab_type": "code",
        "colab": {}
      },
      "source": [
        "#include<stdio.h>\n",
        "int main()\n",
        "{\n",
        "\tint n,large=0,x,j,small=0;\n",
        "\tscanf(\"%d\",&n);\n",
        "\twhile(n!=0)\n",
        "\t{\n",
        "\t\tx=n%10;\n",
        "\t\tif(x>large)\n",
        "\t\tlarge=x;\n",
        "        if(x<=small){\n",
        "\t\tsmall=x;\n",
        "\t\t}n=n/10;\n",
        "\t}\n",
        "\tprintf(\"%d %d\",small,large);\n",
        "\treturn 0;\n",
        "}"
      ],
      "execution_count": 0,
      "outputs": []
    },
    {
      "cell_type": "code",
      "metadata": {
        "id": "p1cEwvR7f2Le",
        "colab_type": "code",
        "colab": {}
      },
      "source": [
        "#include<stdio.h>\n",
        "int main()\n",
        "{\n",
        "\tint n,x,t;\n",
        "\tscanf(\"%d\",&n);\n",
        "\twhile(n!=0)\n",
        "\t{\n",
        "\t\tx=n%10;\n",
        "\tn=n/10;\n",
        "\tswitch(x)\n",
        "\t{\n",
        "\t\tcase 1:printf(\"one \" ); break;\n",
        "\t\tcase 2:printf(\"two \"); break;\n",
        "\t\tcase 3:printf(\"three \"); break;\n",
        "\t\tcase 4:printf(\"four \"); break;\n",
        "\t\tcase 5:printf(\"five \"); break;\n",
        "\t\tcase 6:printf(\"six\"); break;\n",
        "\t\tcase 7:printf(\"seven \"); break;\n",
        "\t\tcase 8:printf(\"eight \"); break;\n",
        "\t\tcase 9:printf(\"nine \"); break;\n",
        "\t\tcase 0:printf(\"zero \"); break;\n",
        "\t\tdefault:printf(\"what the hell did u give\");\n",
        "\t}\n",
        "}\n",
        "return 0;"
      ],
      "execution_count": 0,
      "outputs": []
    },
    {
      "cell_type": "markdown",
      "metadata": {
        "id": "hgokaUr_pTHm",
        "colab_type": "text"
      },
      "source": [
        ""
      ]
    },
    {
      "cell_type": "code",
      "metadata": {
        "id": "aZqTQs9hpTmK",
        "colab_type": "code",
        "colab": {}
      },
      "source": [
        "#include<stdio.h>\n",
        "int main()\n",
        "{\n",
        "\tint a,x,s=0;\n",
        "\tscanf(\"%d\",&a);\n",
        "\twhile(a!=0){\n",
        "\t\tx=a%10;\n",
        "\t\ta=a/10;\n",
        "\t\tswitch(x){\n",
        "\t\t\tcase 4:x=1; break;\n",
        "\t\t\tcase 6:x=1; break;\n",
        "\t\t\tcase 8:x=2; break;\n",
        "\t\t\tcase 9:x=1; break;\n",
        "\t\t\tdefault:x=0; break;}\n",
        "\t\ts=s+x;}\n",
        "printf(\"%d \",s);\n",
        "return 0;}"
      ],
      "execution_count": 0,
      "outputs": []
    }
  ]
}